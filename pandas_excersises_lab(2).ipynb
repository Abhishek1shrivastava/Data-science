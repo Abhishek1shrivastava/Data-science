{
  "nbformat": 4,
  "nbformat_minor": 0,
  "metadata": {
    "colab": {
      "provenance": [],
      "authorship_tag": "ABX9TyPh5HtA7mFyZkVhQlnbhLvh",
      "include_colab_link": true
    },
    "kernelspec": {
      "name": "python3",
      "display_name": "Python 3"
    },
    "language_info": {
      "name": "python"
    }
  },
  "cells": [
    {
      "cell_type": "markdown",
      "metadata": {
        "id": "view-in-github",
        "colab_type": "text"
      },
      "source": [
        "<a href=\"https://colab.research.google.com/github/Abhishek1shrivastava/Data-science/blob/main/pandas_excersises_lab(2).ipynb\" target=\"_parent\"><img src=\"https://colab.research.google.com/assets/colab-badge.svg\" alt=\"Open In Colab\"/></a>"
      ]
    },
    {
      "cell_type": "markdown",
      "source": [
        "**1.Write a Pandas program to create a dataframe from a dictionary and display\n",
        "it.**\n",
        "\n",
        "Sample data: {'X':[78,85,96,80,86],'Y':[84,94,89,83,86],'Z':[86,97,96,72,83]}"
      ],
      "metadata": {
        "id": "eN58Ki8m25Kb"
      }
    },
    {
      "cell_type": "code",
      "execution_count": null,
      "metadata": {
        "colab": {
          "base_uri": "https://localhost:8080/"
        },
        "id": "SED_leTS2qN5",
        "outputId": "a3428c76-73dd-4089-8b7d-beb66536dee4"
      },
      "outputs": [
        {
          "output_type": "stream",
          "name": "stdout",
          "text": [
            "Data before creating DataFrame is:-\n",
            " {'X': [78, 85, 96, 80, 86], 'Y': [84, 94, 89, 83, 86], 'Z': [86, 97, 96, 72, 83]}\n",
            "Data after creating DataFrame is:-\n",
            "     X   Y   Z\n",
            "0  78  84  86\n",
            "1  85  94  97\n",
            "2  96  89  96\n",
            "3  80  83  72\n",
            "4  86  86  83\n"
          ]
        }
      ],
      "source": [
        "import pandas as pd\n",
        "di = {'X':[78,85,96,80,86],'Y':[84,94,89,83,86],'Z':[86,97,96,72,83]}\n",
        "print(\"Data before creating DataFrame is:-\\n\",di)\n",
        "data =pd.DataFrame(di)\n",
        "print(\"Data after creating DataFrame is:-\\n\",data)"
      ]
    },
    {
      "cell_type": "markdown",
      "source": [
        "**2. Write a Pandas program to create and display a DataFrame from a specified\n",
        "dictionary data which has the index labels.**\n",
        "\n",
        "Sample Python dictionary data and list labels:\n",
        "exam_data = {&#39;name&#39;: [&#39;Anastasia&#39;, &#39;Dima&#39;, &#39;Katherine&#39;, &#39;James&#39;, &#39;Emily&#39;,\n",
        "&#39;Michael&#39;, &#39;Matthew&#39;, &#39;Laura&#39;, &#39;Kevin&#39;, &#39;Jonas&#39;],\n",
        "&#39;score&#39;: [12.5, 9, 16.5, np.nan, 9, 20, 14.5, np.nan, 8, 19],\n",
        "&#39;attempts&#39;: [1, 3, 2, 3, 2, 3, 1, 1, 2, 1],\n",
        "&#39;qualify&#39;: [&#39;yes&#39;, &#39;no&#39;, &#39;yes&#39;, &#39;no&#39;, &#39;no&#39;, &#39;yes&#39;, &#39;yes&#39;, &#39;no&#39;, &#39;no&#39;, &#39;yes&#39;]}\n",
        "labels = [&#39;a&#39;, &#39;b&#39;, &#39;c&#39;, &#39;d&#39;, &#39;e&#39;, &#39;f&#39;, &#39;g&#39;, &#39;h&#39;, &#39;i&#39;, &#39;j&#39;]"
      ],
      "metadata": {
        "id": "rMI6T0ir4-LK"
      }
    },
    {
      "cell_type": "code",
      "source": [
        "import pandas as pd\n",
        "import numpy as np\n",
        "\n",
        "exam_data = {'name': ['Anastasia', 'Dima', 'Katherine', 'James', 'Emily', 'Michael', 'Matthew', 'Laura', 'Kevin', 'Jonas'],\n",
        "             'score': [12.5, 9, 16.5, np.nan, 9, 20, 14.5, np.nan, 8, 19],\n",
        "             'attempts': [1, 3, 2, 3, 2, 3, 1, 1, 2, 1],\n",
        "             'qualify': ['yes', 'no', 'yes', 'no', 'no', 'yes', 'yes', 'no', 'no', 'yes']}\n",
        "labels = ['a', 'b', 'c', 'd', 'e', 'f', 'g', 'h', 'i', 'j']\n",
        "df = pd.DataFrame(exam_data,labels)\n",
        "print(df)"
      ],
      "metadata": {
        "colab": {
          "base_uri": "https://localhost:8080/"
        },
        "id": "K6Ydot505CgY",
        "outputId": "c1c540c0-6e10-446a-fa5c-739f24eb3362"
      },
      "execution_count": null,
      "outputs": [
        {
          "output_type": "stream",
          "name": "stdout",
          "text": [
            "        name  score  attempts qualify\n",
            "a  Anastasia   12.5         1     yes\n",
            "b       Dima    9.0         3      no\n",
            "c  Katherine   16.5         2     yes\n",
            "d      James    NaN         3      no\n",
            "e      Emily    9.0         2      no\n",
            "f    Michael   20.0         3     yes\n",
            "g    Matthew   14.5         1     yes\n",
            "h      Laura    NaN         1      no\n",
            "i      Kevin    8.0         2      no\n",
            "j      Jonas   19.0         1     yes\n"
          ]
        }
      ]
    },
    {
      "cell_type": "markdown",
      "source": [
        "**3. Write a Pandas program to get the first 3 rows of a given DataFrame.**\n",
        "\n",
        "Sample Python dictionary data and list labels:\n",
        "exam_data = {&#39;name&#39;: [&#39;Anastasia&#39;, &#39;Dima&#39;, &#39;Katherine&#39;, &#39;James&#39;, &#39;Emily&#39;,\n",
        "&#39;Michael&#39;, &#39;Matthew&#39;, &#39;Laura&#39;, &#39;Kevin&#39;, &#39;Jonas&#39;],\n",
        "&#39;score&#39;: [12.5, 9, 16.5, np.nan, 9, 20, 14.5, np.nan, 8, 19],\n",
        "&#39;attempts&#39;: [1, 3, 2, 3, 2, 3, 1, 1, 2, 1],\n",
        "&#39;qualify&#39;: [&#39;yes&#39;, &#39;no&#39;, &#39;yes&#39;, &#39;no&#39;, &#39;no&#39;, &#39;yes&#39;, &#39;yes&#39;, &#39;no&#39;, &#39;no&#39;, &#39;yes&#39;]}\n",
        "labels = [&#39;a&#39;, &#39;b&#39;, &#39;c&#39;, &#39;d&#39;, &#39;e&#39;, &#39;f&#39;, &#39;g&#39;, &#39;h&#39;, &#39;i&#39;, &#39;j&#39;]\n"
      ],
      "metadata": {
        "id": "auA2hR856w0l"
      }
    },
    {
      "cell_type": "code",
      "source": [
        "import pandas as pd\n",
        "import numpy as np\n",
        "print(\"method no.1:-\\n\")\n",
        "print(df.loc[['a','b','c']])\n",
        "print(\"\\n method no.2:-\\n\")\n",
        "print(df.head(3))"
      ],
      "metadata": {
        "colab": {
          "base_uri": "https://localhost:8080/"
        },
        "id": "Hln2oDyO6yfU",
        "outputId": "8581fe61-1211-4314-f751-3aa27c7d129f"
      },
      "execution_count": null,
      "outputs": [
        {
          "output_type": "stream",
          "name": "stdout",
          "text": [
            "method no.1:-\n",
            "\n",
            "        name  score  attempts qualify\n",
            "a  Anastasia   12.5         1     yes\n",
            "b       Dima    9.0         3      no\n",
            "c  Katherine   16.5         2     yes\n",
            "\n",
            " method no.2:-\n",
            "\n",
            "        name  score  attempts qualify\n",
            "a  Anastasia   12.5         1     yes\n",
            "b       Dima    9.0         3      no\n",
            "c  Katherine   16.5         2     yes\n"
          ]
        }
      ]
    },
    {
      "cell_type": "markdown",
      "source": [
        "**4.  Write a Pandas program to select the &#39;name&#39; and &#39;score&#39; columns from the following DataFrame.**\n",
        "Sample Python dictionary data and list labels:\n",
        "exam_data = {&#39;name&#39;: [&#39;Anastasia&#39;, &#39;Dima&#39;, &#39;Katherine&#39;, &#39;James&#39;, &#39;Emily&#39;,\n",
        "&#39;Michael&#39;, &#39;Matthew&#39;, &#39;Laura&#39;, &#39;Kevin&#39;, &#39;Jonas&#39;],\n",
        "&#39;score&#39;: [12.5, 9, 16.5, np.nan, 9, 20, 14.5, np.nan, 8, 19],\n",
        "&#39;attempts&#39;: [1, 3, 2, 3, 2, 3, 1, 1, 2, 1],"
      ],
      "metadata": {
        "id": "DpX1GjM2_eow"
      }
    },
    {
      "cell_type": "code",
      "source": [
        "print(df[['name','score']])"
      ],
      "metadata": {
        "colab": {
          "base_uri": "https://localhost:8080/"
        },
        "id": "yVsmCdQO_f4J",
        "outputId": "77540424-47ff-4d3b-a1ac-0e660c68f3cb"
      },
      "execution_count": null,
      "outputs": [
        {
          "output_type": "stream",
          "name": "stdout",
          "text": [
            "        name  score\n",
            "a  Anastasia   12.5\n",
            "b       Dima    9.0\n",
            "c  Katherine   16.5\n",
            "d      James    NaN\n",
            "e      Emily    9.0\n",
            "f    Michael   20.0\n",
            "g    Matthew   14.5\n",
            "h      Laura    NaN\n",
            "i      Kevin    8.0\n",
            "j      Jonas   19.0\n"
          ]
        }
      ]
    },
    {
      "cell_type": "markdown",
      "source": [
        "**some other exersice**"
      ],
      "metadata": {
        "id": "-1TwiIXHizj_"
      }
    },
    {
      "cell_type": "code",
      "source": [
        "print(df)\n",
        "print(\"\\nprint the data of attempts and name columns:-\\n\")\n",
        "dff= pd.DataFrame(exam_data,columns=['attempts','name'])\n",
        "print(dff)\n",
        "print(\"\\nit is score column:-\\n\")\n",
        "result = df[\"score\"]\n",
        "print(result)\n",
        "print(\"\\nprint the result of how is giving more than two attepts\\n\")\n",
        "attempts_no = df[df['attempts'] > 2]\n",
        "print(attempts_no)"
      ],
      "metadata": {
        "colab": {
          "base_uri": "https://localhost:8080/"
        },
        "id": "TXFcgXqdXpOw",
        "outputId": "efd2e7c4-105a-4c72-eec3-bc8e77400bf4"
      },
      "execution_count": null,
      "outputs": [
        {
          "output_type": "stream",
          "name": "stdout",
          "text": [
            "        name  score  attempts qualify\n",
            "a  Anastasia   12.5         1     yes\n",
            "b       Dima    9.0         3      no\n",
            "c  Katherine   16.5         2     yes\n",
            "d      James    NaN         3      no\n",
            "e      Emily    9.0         2      no\n",
            "f    Michael   20.0         3     yes\n",
            "g    Matthew   14.5         1     yes\n",
            "h      Laura    NaN         1      no\n",
            "i      Kevin    8.0         2      no\n",
            "j      Jonas   19.0         1     yes\n",
            "\n",
            "print the data of attempts and name columns:-\n",
            "\n",
            "   attempts       name\n",
            "0         1  Anastasia\n",
            "1         3       Dima\n",
            "2         2  Katherine\n",
            "3         3      James\n",
            "4         2      Emily\n",
            "5         3    Michael\n",
            "6         1    Matthew\n",
            "7         1      Laura\n",
            "8         2      Kevin\n",
            "9         1      Jonas\n",
            "\n",
            "it is score column:-\n",
            "\n",
            "a    12.5\n",
            "b     9.0\n",
            "c    16.5\n",
            "d     NaN\n",
            "e     9.0\n",
            "f    20.0\n",
            "g    14.5\n",
            "h     NaN\n",
            "i     8.0\n",
            "j    19.0\n",
            "Name: score, dtype: float64\n",
            "\n",
            "print the result of how is giving more than two attepts\n",
            "\n",
            "      name  score  attempts qualify\n",
            "b     Dima    9.0         3      no\n",
            "d    James    NaN         3      no\n",
            "f  Michael   20.0         3     yes\n"
          ]
        }
      ]
    },
    {
      "cell_type": "markdown",
      "source": [
        "**5.  Write a Pandas program to select the rows where the number of attempts in\n",
        "the examination is greater than 2.**"
      ],
      "metadata": {
        "id": "Z9Cin28fOaff"
      }
    },
    {
      "cell_type": "code",
      "source": [
        "\n",
        "attempts_no = df[df['attempts'] > 2]\n",
        "print(attempts_no)\n"
      ],
      "metadata": {
        "colab": {
          "base_uri": "https://localhost:8080/"
        },
        "id": "vegAWQG7Odje",
        "outputId": "64202de4-65d2-4e8f-8766-6d875c277249"
      },
      "execution_count": null,
      "outputs": [
        {
          "output_type": "stream",
          "name": "stdout",
          "text": [
            "      name  score  attempts qualify\n",
            "b     Dima    9.0         3      no\n",
            "d    James    NaN         3      no\n",
            "f  Michael   20.0         3     yes\n"
          ]
        }
      ]
    },
    {
      "cell_type": "markdown",
      "source": [
        "**6. Write a Pandas program to select the rows where the score is missing, i.e.\n",
        "is NaN.\n",
        "Sample Python dictionary data and list labels:\n",
        "exam_data = {&#39;name&#39;: [&#39;Anastasia&#39;, &#39;Dima&#39;, &#39;Katherine&#39;, &#39;James&#39;, &#39;Emily&#39;,\n",
        "&#39;Michael&#39;, &#39;Matthew&#39;, &#39;Laura&#39;, &#39;Kevin&#39;, &#39;Jonas&#39;],\n",
        "&#39;score&#39;: [12.5, 9, 16.5, np.nan, 9, 20, 14.5, np.nan, 8, 19],\n",
        "&#39;attempts&#39;: [1, 3, 2, 3, 2, 3, 1, 1, 2, 1],\n",
        "&#39;qualify&#39;: [&#39;yes&#39;, &#39;no&#39;, &#39;yes&#39;, &#39;no&#39;, &#39;no&#39;, &#39;yes&#39;, &#39;yes&#39;, &#39;no&#39;, &#39;no&#39;, &#39;yes&#39;]}\n",
        "labels = [&#39;a&#39;, &#39;b&#39;, &#39;c&#39;, &#39;d&#39;, &#39;e&#39;, &#39;f&#39;, &#39;g&#39;, labels = [&#39;a&#39;, &#39;b&#39;, &#39;c&#39;, &#39;d&#39;, &#39;e&#39;, &#39;f&#39;, &#39;g&#39;, &#39;h&#39;, &#39;i&#39;, &#39;j&#39;]**\n"
      ],
      "metadata": {
        "id": "Zj3peKZUVVNx"
      }
    },
    {
      "cell_type": "code",
      "source": [
        "#print(df)\n",
        "\n",
        "print(df[df['score'].isnull()])\n"
      ],
      "metadata": {
        "colab": {
          "base_uri": "https://localhost:8080/"
        },
        "id": "RlyP2cfGVUg6",
        "outputId": "c03dc55c-5219-4534-8445-359b33e9c0c6"
      },
      "execution_count": null,
      "outputs": [
        {
          "output_type": "stream",
          "name": "stdout",
          "text": [
            "    name  score  attempts qualify\n",
            "d  James    NaN         3      no\n",
            "h  Laura    NaN         1      no\n"
          ]
        }
      ]
    },
    {
      "cell_type": "code",
      "source": [],
      "metadata": {
        "id": "8NtLG-qUbbTC"
      },
      "execution_count": null,
      "outputs": []
    },
    {
      "cell_type": "code",
      "source": [],
      "metadata": {
        "id": "PM4J_fucbAfJ"
      },
      "execution_count": null,
      "outputs": []
    },
    {
      "cell_type": "code",
      "source": [],
      "metadata": {
        "id": "nedKAULea73R"
      },
      "execution_count": null,
      "outputs": []
    },
    {
      "cell_type": "code",
      "source": [],
      "metadata": {
        "id": "wO_c1nabUVG1"
      },
      "execution_count": null,
      "outputs": []
    }
  ]
}