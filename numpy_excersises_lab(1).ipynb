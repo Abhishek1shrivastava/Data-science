{
  "nbformat": 4,
  "nbformat_minor": 0,
  "metadata": {
    "colab": {
      "provenance": [],
      "authorship_tag": "ABX9TyNkt5gSPWQTIR4k6m2b5B/C",
      "include_colab_link": true
    },
    "kernelspec": {
      "name": "python3",
      "display_name": "Python 3"
    },
    "language_info": {
      "name": "python"
    }
  },
  "cells": [
    {
      "cell_type": "markdown",
      "metadata": {
        "id": "view-in-github",
        "colab_type": "text"
      },
      "source": [
        "<a href=\"https://colab.research.google.com/github/Abhishek1shrivastava/Data-science/blob/main/numpy_excersises_lab(1).ipynb\" target=\"_parent\"><img src=\"https://colab.research.google.com/assets/colab-badge.svg\" alt=\"Open In Colab\"/></a>"
      ]
    },
    {
      "cell_type": "code",
      "execution_count": null,
      "metadata": {
        "id": "MJIQIdqOHuXM"
      },
      "outputs": [],
      "source": [
        " import numpy as np"
      ]
    },
    {
      "cell_type": "markdown",
      "source": [
        "Q.1:- wap in numpy to get the Numpy Version"
      ],
      "metadata": {
        "id": "llKljFthKtSz"
      }
    },
    {
      "cell_type": "code",
      "source": [
        "import numpy as np\n",
        "print(np.__version__)"
      ],
      "metadata": {
        "colab": {
          "base_uri": "https://localhost:8080/"
        },
        "id": "lhZa_KzbKSn3",
        "outputId": "319147e3-5283-4717-ddda-939fd7da3366"
      },
      "execution_count": null,
      "outputs": [
        {
          "output_type": "stream",
          "name": "stdout",
          "text": [
            "1.23.5\n"
          ]
        }
      ]
    },
    {
      "cell_type": "markdown",
      "source": [
        "Q.2:- Wap in Numpy to test whether none of the element of a given array are Zero"
      ],
      "metadata": {
        "id": "GXxMD9oQLBxf"
      }
    },
    {
      "cell_type": "code",
      "source": [
        "# its is program to working with linspace() fuction in numpy:\n",
        "import numpy as np\n",
        "arr = np.linspace(0,1,6)\n",
        "print(arr)"
      ],
      "metadata": {
        "colab": {
          "base_uri": "https://localhost:8080/"
        },
        "id": "OPrySvW-SQaw",
        "outputId": "fea79eb2-4ac8-42ab-b6c5-65b0a52ec1e3"
      },
      "execution_count": null,
      "outputs": [
        {
          "output_type": "stream",
          "name": "stdout",
          "text": [
            "[0.  0.2 0.4 0.6 0.8 1. ]\n"
          ]
        }
      ]
    },
    {
      "cell_type": "code",
      "source": [
        "# import numpy as np\n",
        "ar = np.array([1,2,3, 0,4,5])\n",
        "for i in range(len(ar)):\n",
        "  if (ar[i]!= 0):\n",
        "      print(ar[i])\n",
        "  else:\n",
        "    print(\"yes 0 exists\")\n",
        "\n",
        "    # exit()\n",
        "\n"
      ],
      "metadata": {
        "colab": {
          "base_uri": "https://localhost:8080/"
        },
        "id": "36ExSe3TVcB-",
        "outputId": "8aad9928-4454-4e43-edb3-a38c0d396bf8"
      },
      "execution_count": null,
      "outputs": [
        {
          "output_type": "stream",
          "name": "stdout",
          "text": [
            "1\n",
            "2\n",
            "3\n",
            "yes 0 exists\n",
            "4\n",
            "5\n"
          ]
        }
      ]
    },
    {
      "cell_type": "markdown",
      "source": [
        "Q.3  :- wap in numpy to create an element -wise comparision(greater,greater_equal,less_equal) of two given array\n"
      ],
      "metadata": {
        "id": "NQ_vdouOXs4R"
      }
    },
    {
      "cell_type": "code",
      "source": [
        "import numpy as np\n",
        "a = np.array([1,4,5,2])\n",
        "b = np.array([2,3,5,1])\n",
        "for i in range(len(a)):\n",
        "  if(a[i]>b[i]):\n",
        "    print(\"a is greater\")\n",
        "  elif(a[i]>=b[i]):\n",
        "    print(\"a is greater equal\")\n",
        "  elif(a[i]<b[i]):\n",
        "    print(\"a is less\")\n",
        "  else:\n",
        "    print(\"a is less greater\")\n"
      ],
      "metadata": {
        "colab": {
          "base_uri": "https://localhost:8080/"
        },
        "id": "yUsREyBRVgZI",
        "outputId": "2c939352-7d4e-4335-d4e9-abc8d4d6b7a4"
      },
      "execution_count": null,
      "outputs": [
        {
          "output_type": "stream",
          "name": "stdout",
          "text": [
            "a is less\n",
            "a is greater\n",
            "a is greater equal\n",
            "a is greater\n"
          ]
        }
      ]
    },
    {
      "cell_type": "markdown",
      "source": [
        "Q.4:- Write a NumPy program to create an array with the values\n",
        "1, 7, 13, 105 and determine the size of the memory occupied\n",
        "by the array."
      ],
      "metadata": {
        "id": "505EMJdOtHTx"
      }
    },
    {
      "cell_type": "code",
      "source": [
        "import numpy as np\n",
        "value = np.array([1,7,13,105])\n",
        "#In array each element has occupied 8 Bytes in memory\n",
        "print( \"the value of created array is\" ,value)\n",
        "size = value.nbytes\n",
        "print(\"The size of the memory occupied by the array is:- \",size)\n"
      ],
      "metadata": {
        "colab": {
          "base_uri": "https://localhost:8080/"
        },
        "id": "WdyQy4gNtNfC",
        "outputId": "c8aa0a01-89db-4949-822b-b7eee4e1b7d8"
      },
      "execution_count": null,
      "outputs": [
        {
          "output_type": "stream",
          "name": "stdout",
          "text": [
            "the value of created array is [  1   7  13 105]\n",
            "The size of the memory occupied by the array is:-  32\n"
          ]
        }
      ]
    },
    {
      "cell_type": "markdown",
      "source": [
        "Q.5:-Write a NumPy program to create an array of integers\n",
        "from 30 to 70.\n"
      ],
      "metadata": {
        "id": "V-SuxDaPwKWQ"
      }
    },
    {
      "cell_type": "code",
      "source": [
        "import numpy as np\n",
        "arrr = np.arange(30,70)\n",
        "print(\" array of integers from 30 to 70. is:-\",arrr)"
      ],
      "metadata": {
        "colab": {
          "base_uri": "https://localhost:8080/"
        },
        "id": "XXTpYWAFwI-g",
        "outputId": "79f63279-115c-439a-f884-c9296054b579"
      },
      "execution_count": null,
      "outputs": [
        {
          "output_type": "stream",
          "name": "stdout",
          "text": [
            " array of integers from 30 to 70. is:- [30 31 32 33 34 35 36 37 38 39 40 41 42 43 44 45 46 47 48 49 50 51 52 53\n",
            " 54 55 56 57 58 59 60 61 62 63 64 65 66 67 68 69]\n"
          ]
        }
      ]
    },
    {
      "cell_type": "markdown",
      "source": [
        "Q.6:-Write a NumPy program to create an array of all even\n",
        "integers from 30 to 70."
      ],
      "metadata": {
        "id": "6bzp59Zcw6T9"
      }
    },
    {
      "cell_type": "code",
      "source": [
        "import numpy as np\n",
        "arrrr = np.arange(30,70,2).reshape(4,5)\n",
        "print(\" array of all even integers from 30 to 70. is:-\\n\",arrrr)"
      ],
      "metadata": {
        "colab": {
          "base_uri": "https://localhost:8080/"
        },
        "id": "O8RTSnibw--S",
        "outputId": "c87441d3-f2b9-4f9e-e1d0-d4fbd0335e2e"
      },
      "execution_count": null,
      "outputs": [
        {
          "output_type": "stream",
          "name": "stdout",
          "text": [
            " array of all even integers from 30 to 70. is:-\n",
            " [[30 32 34 36 38]\n",
            " [40 42 44 46 48]\n",
            " [50 52 54 56 58]\n",
            " [60 62 64 66 68]]\n"
          ]
        }
      ]
    },
    {
      "cell_type": "markdown",
      "source": [
        "Q.7:-Write a NumPy program to create a 3x3 identity matrix."
      ],
      "metadata": {
        "id": "aR_tnmaYzIk-"
      }
    },
    {
      "cell_type": "code",
      "source": [
        "import numpy as np\n",
        "#I_M = np.array([[1,0,0],[0,1,0],[0,0,1]])\n",
        "#print(I_M)\n",
        "I_M= np.identity(3,dtype=int)#this fuction take float value by default\n",
        "print(I_M)"
      ],
      "metadata": {
        "colab": {
          "base_uri": "https://localhost:8080/"
        },
        "id": "sO9EHIYzzNCE",
        "outputId": "3e08646f-970c-4837-8dab-c10c0a55d84e"
      },
      "execution_count": null,
      "outputs": [
        {
          "output_type": "stream",
          "name": "stdout",
          "text": [
            "[[1 0 0]\n",
            " [0 1 0]\n",
            " [0 0 1]]\n"
          ]
        }
      ]
    },
    {
      "cell_type": "markdown",
      "source": [
        "!!!! Exercise question to arange array in shape like(3X3) using reshape() fuction"
      ],
      "metadata": {
        "id": "zvpQG0M-19tW"
      }
    },
    {
      "cell_type": "code",
      "source": [
        "import numpy as np\n",
        "a = np.arange(10,22).reshape((3, 4))\n",
        "print(\"Original array:\")\n",
        "print(a)\n",
        "print(\"Each element of the array is:\")\n",
        "for x in np.nditer(a):\n",
        "  print(x,end=\" \")"
      ],
      "metadata": {
        "colab": {
          "base_uri": "https://localhost:8080/"
        },
        "id": "0Ax70U9I1RUx",
        "outputId": "95239e50-e135-4d34-f518-38638c150cd3"
      },
      "execution_count": null,
      "outputs": [
        {
          "output_type": "stream",
          "name": "stdout",
          "text": [
            "Original array:\n",
            "[[10 11 12 13]\n",
            " [14 15 16 17]\n",
            " [18 19 20 21]]\n",
            "Each element of the array is:\n",
            "10 11 12 13 14 15 16 17 18 19 20 21 "
          ]
        }
      ]
    }
  ]
}