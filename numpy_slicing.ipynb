{
  "nbformat": 4,
  "nbformat_minor": 0,
  "metadata": {
    "colab": {
      "provenance": [],
      "authorship_tag": "ABX9TyOsm2+a+TqZx4vpvX5ZFrJ8",
      "include_colab_link": true
    },
    "kernelspec": {
      "name": "python3",
      "display_name": "Python 3"
    },
    "language_info": {
      "name": "python"
    }
  },
  "cells": [
    {
      "cell_type": "markdown",
      "metadata": {
        "id": "view-in-github",
        "colab_type": "text"
      },
      "source": [
        "<a href=\"https://colab.research.google.com/github/Abhishek1shrivastava/Data-science/blob/main/numpy_slicing.ipynb\" target=\"_parent\"><img src=\"https://colab.research.google.com/assets/colab-badge.svg\" alt=\"Open In Colab\"/></a>"
      ]
    },
    {
      "cell_type": "code",
      "execution_count": null,
      "metadata": {
        "colab": {
          "base_uri": "https://localhost:8080/"
        },
        "id": "nNXqqvrzKWiF",
        "outputId": "78d81639-8bc8-4730-ea8b-2559557c7018"
      },
      "outputs": [
        {
          "output_type": "stream",
          "name": "stdout",
          "text": [
            "array without slicing:-\n",
            " [[ 1  2  3]\n",
            " [ 4  5  6]\n",
            " [ 7  8  9]\n",
            " [ 0 12 13]]\n",
            "type of array is :- <class 'numpy.ndarray'>\n",
            "dimantion of array is :- 2\n",
            "shape of the array is :- (4, 3)\n",
            "size of the array is :- 12\n",
            "type of element in array is :- int64\n"
          ]
        }
      ],
      "source": [
        "import numpy as np\n",
        "arrr = np.array([[1,2,3],[4,5,6],[7,8,9],[0,12,13]])\n",
        "print(\"array without slicing:-\\n\",arrr)\n",
        "print(\"type of array is :-\",type(arrr))\n",
        "print(\"dimantion of array is :-\",(arrr.ndim))\n",
        "print(\"shape of the array is :-\",(arrr.shape))\n",
        "print(\"size of the array is :-\",(arrr.size))\n",
        "print(\"type of element in array is :-\",(arrr.dtype))"
      ]
    },
    {
      "cell_type": "code",
      "source": [
        "print(arrr[2,-1])"
      ],
      "metadata": {
        "colab": {
          "base_uri": "https://localhost:8080/"
        },
        "id": "6GU5y0_WK3zk",
        "outputId": "e33fec13-a253-461e-d57c-cd101f227be4"
      },
      "execution_count": null,
      "outputs": [
        {
          "output_type": "stream",
          "name": "stdout",
          "text": [
            "9\n"
          ]
        }
      ]
    },
    {
      "cell_type": "markdown",
      "source": [
        "slice the first row onwards\n"
      ],
      "metadata": {
        "id": "FnbjeeksQep1"
      }
    },
    {
      "cell_type": "code",
      "source": [
        "print(arrr[1:4])"
      ],
      "metadata": {
        "colab": {
          "base_uri": "https://localhost:8080/"
        },
        "id": "TVkrTGC1PeIv",
        "outputId": "b3f0c77c-3c20-4bb5-8660-6bf1c0c356f5"
      },
      "execution_count": null,
      "outputs": [
        {
          "output_type": "stream",
          "name": "stdout",
          "text": [
            "[[ 4  5  6]\n",
            " [ 7  8  9]\n",
            " [ 0 12 13]]\n"
          ]
        }
      ]
    },
    {
      "cell_type": "markdown",
      "source": [
        "slice all the item from the first column onward\n"
      ],
      "metadata": {
        "id": "Fk4TCozpQkw8"
      }
    },
    {
      "cell_type": "code",
      "source": [
        "print(arrr[0:4,0:1])"
      ],
      "metadata": {
        "colab": {
          "base_uri": "https://localhost:8080/"
        },
        "id": "hu3PiBa5QsPc",
        "outputId": "c3912b9e-068a-4fcc-e3bd-ef0292a63eb5"
      },
      "execution_count": null,
      "outputs": [
        {
          "output_type": "stream",
          "name": "stdout",
          "text": [
            "[[1]\n",
            " [4]\n",
            " [7]\n",
            " [0]]\n"
          ]
        }
      ]
    }
  ]
}